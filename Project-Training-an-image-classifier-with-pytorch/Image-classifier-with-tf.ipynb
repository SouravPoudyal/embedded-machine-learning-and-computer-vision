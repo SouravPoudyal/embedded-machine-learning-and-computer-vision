{
 "cells": [
  {
   "cell_type": "code",
   "execution_count": 1,
   "id": "2308ac8a",
   "metadata": {},
   "outputs": [],
   "source": [
    "import numpy as np\n",
    "import matplotlib.pyplot as plt\n",
    "import random\n",
    "import os\n",
    "import PIL\n",
    "from PIL import Image\n",
    "import tensorflow as tf\n",
    "from tensorflow import keras\n",
    "from tensorflow.keras import layers\n",
    "from sklearn.model_selection import train_test_split\n",
    "import time"
   ]
  },
  {
   "cell_type": "code",
   "execution_count": 2,
   "id": "626f97ce",
   "metadata": {},
   "outputs": [],
   "source": [
    "# Dataset location\n",
    "DATASET_PATH = \"Datasets/electronic-components-png\"\n",
    "\n",
    "# resolution of images\n",
    "TARGET_WIDTH = 28\n",
    "TARGET_HEIGHT = 28\n",
    "\n",
    "# invert image\n",
    "INVERT = False\n",
    "\n",
    "# Grayscale\n",
    "GRAYSCALE = True\n",
    "\n",
    "# 20%-validation, 20%-test\n",
    "VAL_RATIO = 0.2\n",
    "TEST_RATIO = 0.2\n",
    "TRAIN_RATIO = 1 - VAL_RATIO - TEST_RATIO \n",
    "\n",
    "# Normalization mean\n",
    "MEAN = (0.0864, 0.3011, 0.6495)\n",
    "STD = (1.212, 1.425, 1.505)\n",
    "\n",
    "GRAY_MEAN = 0.5\n",
    "GRAY_STD = 0.5\n",
    "\n",
    "# Hyperparameters\n",
    "LR = 0.001\n",
    "EPOCHS = 10\n",
    "BATCH_SIZE = 10\n"
   ]
  },
  {
   "cell_type": "code",
   "execution_count": 3,
   "id": "2cf2ac15",
   "metadata": {},
   "outputs": [],
   "source": [
    "# Load and prepare dataset\n",
    "def load_dataset(path, grayscale=True, invert=False):\n",
    "    data = []\n",
    "    class_names = []\n",
    "    class_map = {}\n",
    "    \n",
    "    # Walk through the dataset directory to collect images and labels\n",
    "    for root, dirs, files in os.walk(path):\n",
    "        # Skip the root directory itself (only process subdirectories)\n",
    "        if root == path:\n",
    "            continue\n",
    "        \n",
    "        # Get label from directory name\n",
    "        label = os.path.basename(root)\n",
    "        \n",
    "        # Add label to class_map if not already present\n",
    "        if label not in class_map:\n",
    "            class_map[label] = len(class_map)\n",
    "            class_names.append(label)\n",
    "        \n",
    "        # Process each image file\n",
    "        for file in files:\n",
    "            if file.lower().endswith(('.png', '.jpg', '.jpeg')):\n",
    "                img_path = os.path.join(root, file)\n",
    "                data.append((img_path, class_map[label]))\n",
    "    \n",
    "    return data, class_names, class_map\n"
   ]
  },
  {
   "cell_type": "code",
   "execution_count": 4,
   "id": "14a96ba3",
   "metadata": {},
   "outputs": [
    {
     "name": "stdout",
     "output_type": "stream",
     "text": [
      "Found 5 unique classes:\n",
      "0: background (Count: 50)\n",
      "1: capacitor (Count: 50)\n",
      "2: diode (Count: 50)\n",
      "3: led (Count: 50)\n",
      "4: resistor (Count: 50)\n"
     ]
    }
   ],
   "source": [
    "# Load all data\n",
    "all_data, class_names, class_map = load_dataset(DATASET_PATH, grayscale=GRAYSCALE, invert=INVERT)\n",
    "\n",
    "# Print class information\n",
    "print(f\"Found {len(class_names)} unique classes:\")\n",
    "for i, label in enumerate(sorted(class_names)):\n",
    "    count = sum(1 for _, class_id in all_data if class_id == i)\n",
    "    print(f\"{i}: {label} (Count: {count})\")"
   ]
  },
  {
   "cell_type": "code",
   "execution_count": 5,
   "id": "cf70ca24",
   "metadata": {},
   "outputs": [],
   "source": [
    "# Split dataset\n",
    "train_val_data, test_data = train_test_split(all_data, test_size=TEST_RATIO, random_state=42)\n",
    "train_data, val_data = train_test_split(train_val_data, test_size=VAL_RATIO/(1-TEST_RATIO), random_state=42)"
   ]
  },
  {
   "cell_type": "code",
   "execution_count": 6,
   "id": "ae929e23",
   "metadata": {},
   "outputs": [],
   "source": [
    "# Data augmentation and preprocessing\n",
    "def preprocess_image(image_path, label, grayscale=GRAYSCALE, invert=INVERT):\n",
    "    # Read image file\n",
    "    image = tf.io.read_file(image_path)\n",
    "    # Decode image\n",
    "    image = tf.image.decode_image(image, channels=3, expand_animations=False)\n",
    "    # Resize\n",
    "    image = tf.image.resize(image, [TARGET_HEIGHT, TARGET_WIDTH])\n",
    "    \n",
    "    if grayscale:\n",
    "        # Convert to grayscale\n",
    "        image = tf.image.rgb_to_grayscale(image)\n",
    "        # Normalize\n",
    "        image = (image / 255.0 - GRAY_MEAN) / GRAY_STD\n",
    "    else:\n",
    "        # Normalize RGB\n",
    "        image = (image / 255.0 - MEAN) / STD\n",
    "    \n",
    "    if invert:\n",
    "        image = 1.0 - image\n",
    "    \n",
    "    return image, label"
   ]
  },
  {
   "cell_type": "code",
   "execution_count": 7,
   "id": "dab0cfb7",
   "metadata": {},
   "outputs": [],
   "source": [
    "# Create TensorFlow datasets\n",
    "def create_dataset(data, batch_size=BATCH_SIZE, shuffle=False):\n",
    "    image_paths = [item[0] for item in data]\n",
    "    labels = [item[1] for item in data]\n",
    "    \n",
    "    dataset = tf.data.Dataset.from_tensor_slices((image_paths, labels))\n",
    "    dataset = dataset.map(lambda x, y: preprocess_image(x, y, GRAYSCALE, INVERT))\n",
    "    \n",
    "    if shuffle:\n",
    "        dataset = dataset.shuffle(buffer_size=len(data))\n",
    "    \n",
    "    dataset = dataset.batch(batch_size)\n",
    "    dataset = dataset.prefetch(tf.data.AUTOTUNE)\n",
    "    \n",
    "    return dataset"
   ]
  },
  {
   "cell_type": "code",
   "execution_count": 8,
   "id": "abcbb647",
   "metadata": {},
   "outputs": [],
   "source": [
    "train_dataset = create_dataset(train_data, batch_size=BATCH_SIZE, shuffle=True)\n",
    "val_dataset = create_dataset(val_data, batch_size=BATCH_SIZE)\n",
    "test_dataset = create_dataset(test_data, batch_size=BATCH_SIZE)"
   ]
  },
  {
   "cell_type": "code",
   "execution_count": 9,
   "id": "a0d92d35",
   "metadata": {},
   "outputs": [
    {
     "data": {
      "image/png": "[encoded data removed]",
      "text/plain": [
       "<Figure size 500x500 with 1 Axes>"
      ]
     },
     "metadata": {},
     "output_type": "display_data"
    }
   ],
   "source": [
    "# Visualize a sample\n",
    "def visualize_sample(dataset):\n",
    "    for images, labels in dataset.take(1):\n",
    "        plt.figure(figsize=(5, 5))\n",
    "        image = images[0].numpy()\n",
    "        if GRAYSCALE:\n",
    "            # Denormalize\n",
    "            image = (image * GRAY_STD + GRAY_MEAN) * 255\n",
    "            image = np.clip(image, 0, 255).astype('uint8')\n",
    "            plt.imshow(image.squeeze(), cmap='gray')\n",
    "        else:\n",
    "            # Denormalize RGB\n",
    "            image = (image * STD + MEAN) * 255\n",
    "            image = np.clip(image, 0, 255).astype('uint8')\n",
    "            plt.imshow(image)\n",
    "        plt.title(f\"Label: {class_names[labels[0]]}\")\n",
    "        plt.axis('off')\n",
    "        plt.show()\n",
    "\n",
    "visualize_sample(train_dataset)"
   ]
  },
  {
   "cell_type": "code",
   "execution_count": 10,
   "id": "2786a8b6",
   "metadata": {},
   "outputs": [],
   "source": [
    "# Define the model\n",
    "def create_model(input_shape=(28, 28, 1), num_classes=5):\n",
    "    model = keras.Sequential([\n",
    "        layers.Conv2D(32, kernel_size=3, padding='same', activation='relu', input_shape=input_shape),\n",
    "        layers.BatchNormalization(),\n",
    "        layers.MaxPooling2D(pool_size=2),\n",
    "        layers.Dropout(0.4),\n",
    "        \n",
    "        layers.Flatten(),\n",
    "        layers.Dense(128, activation='relu'),\n",
    "        layers.Dropout(0.4),\n",
    "        layers.Dense(num_classes, activation='softmax')\n",
    "    ])\n",
    "    \n",
    "    return model\n"
   ]
  },
  {
   "cell_type": "code",
   "execution_count": 11,
   "id": "cbaccd9c",
   "metadata": {},
   "outputs": [
    {
     "name": "stdout",
     "output_type": "stream",
     "text": [
      "Model: \"sequential\"\n",
      "_________________________________________________________________\n",
      "Layer (type)                 Output Shape              Param #   \n",
      "=================================================================\n",
      "conv2d (Conv2D)              (None, 28, 28, 32)        320       \n",
      "_________________________________________________________________\n",
      "batch_normalization (BatchNo (None, 28, 28, 32)        128       \n",
      "_________________________________________________________________\n",
      "max_pooling2d (MaxPooling2D) (None, 14, 14, 32)        0         \n",
      "_________________________________________________________________\n",
      "dropout (Dropout)            (None, 14, 14, 32)        0         \n",
      "_________________________________________________________________\n",
      "flatten (Flatten)            (None, 6272)              0         \n",
      "_________________________________________________________________\n",
      "dense (Dense)                (None, 128)               802944    \n",
      "_________________________________________________________________\n",
      "dropout_1 (Dropout)          (None, 128)               0         \n",
      "_________________________________________________________________\n",
      "dense_1 (Dense)              (None, 5)                 645       \n",
      "=================================================================\n",
      "Total params: 804,037\n",
      "Trainable params: 803,973\n",
      "Non-trainable params: 64\n",
      "_________________________________________________________________\n"
     ]
    }
   ],
   "source": [
    "# Create model\n",
    "if GRAYSCALE:\n",
    "    model = create_model(input_shape=(28, 28, 1), num_classes=len(class_names))\n",
    "else:\n",
    "    model = create_model(input_shape=(28, 28, 3), num_classes=len(class_names))\n",
    "\n",
    "# Compile the model\n",
    "model.compile(\n",
    "    optimizer=keras.optimizers.Adam(learning_rate=LR),\n",
    "    loss='sparse_categorical_crossentropy',\n",
    "    metrics=['accuracy']\n",
    ")\n",
    "\n",
    "# Model summary\n",
    "model.summary()"
   ]
  },
  {
   "cell_type": "code",
   "execution_count": 12,
   "id": "5b409ef3",
   "metadata": {},
   "outputs": [
    {
     "name": "stdout",
     "output_type": "stream",
     "text": [
      "Epoch 1/10\n",
      "15/15 [==============================] - 6s 27ms/step - loss: 1.8265 - accuracy: 0.6133 - val_loss: 1.2839 - val_accuracy: 0.7200\n",
      "Epoch 2/10\n",
      "15/15 [==============================] - 0s 10ms/step - loss: 0.4945 - accuracy: 0.8467 - val_loss: 1.2675 - val_accuracy: 0.5400\n",
      "Epoch 3/10\n",
      "15/15 [==============================] - 0s 10ms/step - loss: 0.5319 - accuracy: 0.8600 - val_loss: 1.2209 - val_accuracy: 0.8400\n",
      "Epoch 4/10\n",
      "15/15 [==============================] - 0s 10ms/step - loss: 0.0870 - accuracy: 0.9733 - val_loss: 1.1715 - val_accuracy: 0.9000\n",
      "Epoch 5/10\n",
      "15/15 [==============================] - 0s 12ms/step - loss: 0.1016 - accuracy: 0.9800 - val_loss: 1.1112 - val_accuracy: 0.9200\n",
      "Epoch 6/10\n",
      "15/15 [==============================] - 0s 8ms/step - loss: 0.0883 - accuracy: 0.9667 - val_loss: 1.0642 - val_accuracy: 0.9400\n",
      "Epoch 7/10\n",
      "15/15 [==============================] - 0s 9ms/step - loss: 0.0190 - accuracy: 1.0000 - val_loss: 1.0013 - val_accuracy: 0.9200\n",
      "Epoch 8/10\n",
      "15/15 [==============================] - 0s 8ms/step - loss: 0.0873 - accuracy: 0.9733 - val_loss: 0.9757 - val_accuracy: 0.9400\n",
      "Epoch 9/10\n",
      "15/15 [==============================] - 0s 9ms/step - loss: 0.0213 - accuracy: 0.9933 - val_loss: 0.9286 - val_accuracy: 0.9600\n",
      "Epoch 10/10\n",
      "15/15 [==============================] - 0s 9ms/step - loss: 0.0348 - accuracy: 0.9933 - val_loss: 0.8763 - val_accuracy: 0.9800\n",
      "5/5 [==============================] - 0s 3ms/step - loss: 0.8588 - accuracy: 0.9400\n",
      "Test accuracy: 0.9400\n"
     ]
    }
   ],
   "source": [
    "# Callbacks\n",
    "callbacks = [\n",
    "    keras.callbacks.ReduceLROnPlateau(monitor='val_loss', factor=0.5, patience=2, verbose=1),\n",
    "    keras.callbacks.ModelCheckpoint('best_model.h5', save_best_only=True, monitor='val_loss'),\n",
    "    keras.callbacks.TensorBoard(log_dir=f'logs/{time.strftime(\"%Y%m%d-%H%M%S\")}', histogram_freq=1)\n",
    "]\n",
    "\n",
    "# Train the model\n",
    "history = model.fit(\n",
    "    train_dataset,\n",
    "    epochs=EPOCHS,\n",
    "    validation_data=val_dataset,\n",
    "    callbacks=callbacks\n",
    ")\n",
    "\n",
    "# Evaluate on test set\n",
    "test_loss, test_acc = model.evaluate(test_dataset)\n",
    "print(f\"Test accuracy: {test_acc:.4f}\")"
   ]
  },
  {
   "cell_type": "code",
   "execution_count": null,
   "id": "58bce260",
   "metadata": {},
   "outputs": [
    {
     "data": {
      "image/png": "[encoded data removed]",
      "text/plain": [
       "<Figure size 800x400 with 1 Axes>"
      ]
     },
     "metadata": {},
     "output_type": "display_data"
    },
    {
     "name": "stdout",
     "output_type": "stream",
     "text": [
      "\n",
      "Model output (raw predictions):\n",
      "background     : 0.0476\n",
      "capacitor      : 0.1408\n",
      "diode          : 0.1093\n",
      "led            : 0.6149\n",
      "resistor       : 0.0873\n",
      "\n",
      "Prediction summary:\n",
      "Predicted label: 3 - led\n",
      "Actual label:    3 - led\n",
      "Confidence:      61.5%\n",
      "\n",
      "✅ Correct prediction!\n"
     ]
    }
   ],
   "source": [
    "# Get one sample from validation set\n",
    "for sample_image, sample_label in val_dataset.unbatch().skip(20).take(1):\n",
    "    break\n",
    "\n",
    "# Prepare input (add batch dimension)\n",
    "input_image = np.expand_dims(sample_image, axis=0)\n",
    "\n",
    "# Make prediction\n",
    "y_pred = model.predict(input_image)\n",
    "predicted_label = np.argmax(y_pred, axis=1)[0]\n",
    "actual_label = sample_label.numpy()\n",
    "\n",
    "# Get class names (from your earlier class_map)\n",
    "labels = sorted(class_map.keys())  # List of class names in order\n",
    "\n",
    "# Visualize the sample\n",
    "plt.figure(figsize=(8, 4))\n",
    "if GRAYSCALE:\n",
    "    # Denormalize grayscale image\n",
    "    denormalized = (sample_image * GRAY_STD + GRAY_MEAN).numpy().squeeze()\n",
    "    plt.imshow(denormalized, cmap='gray', vmin=0, vmax=1)\n",
    "else:\n",
    "    # Denormalize RGB image\n",
    "    denormalized = (sample_image * STD + MEAN).numpy()\n",
    "    denormalized = np.clip(denormalized, 0, 1)\n",
    "    if denormalized.shape[0] == 3:  # CHW to HWC\n",
    "        denormalized = denormalized.transpose(1, 2, 0)\n",
    "    plt.imshow(denormalized)\n",
    "\n",
    "plt.axis('off')\n",
    "plt.show()\n",
    "\n",
    "# Display prediction info\n",
    "print(\"\\nModel output (raw predictions):\")\n",
    "for i, score in enumerate(y_pred[0]):\n",
    "    print(f\"{labels[i]:<15}: {score:.4f}\")\n",
    "\n",
    "print(\"\\nPrediction summary:\")\n",
    "print(f\"Predicted label: {predicted_label} - {labels[predicted_label]}\")\n",
    "print(f\"Actual label:    {actual_label} - {labels[actual_label]}\")\n",
    "print(f\"Confidence:      {np.max(y_pred)*100:.1f}%\")\n",
    "\n",
    "# Show whether prediction was correct\n",
    "if predicted_label == actual_label:\n",
    "    print(\"\\n✅ Correct prediction!\")\n",
    "else:\n",
    "    print(\"\\n❌ Incorrect prediction\")"
   ]
  },
  {
   "cell_type": "code",
   "execution_count": null,
   "id": "ac0c40cb",
   "metadata": {},
   "outputs": [],
   "source": []
  }
 ],
 "metadata": {
  "kernelspec": {
   "display_name": "tf-gpu",
   "language": "python",
   "name": "python3"
  },
  "language_info": {
   "codemirror_mode": {
    "name": "ipython",
    "version": 3
   },
   "file_extension": ".py",
   "mimetype": "text/x-python",
   "name": "python",
   "nbconvert_exporter": "python",
   "pygments_lexer": "ipython3",
   "version": "3.9.16"
  }
 },
 "nbformat": 4,
 "nbformat_minor": 5
}
